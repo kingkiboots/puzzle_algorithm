{
  "nbformat": 4,
  "nbformat_minor": 0,
  "metadata": {
    "colab": {
      "provenance": [],
      "authorship_tag": "ABX9TyPzIaniO6gMMoJ1Wck7ALSb",
      "include_colab_link": true
    },
    "kernelspec": {
      "name": "python3",
      "display_name": "Python 3"
    },
    "language_info": {
      "name": "python"
    }
  },
  "cells": [
    {
      "cell_type": "markdown",
      "metadata": {
        "id": "view-in-github",
        "colab_type": "text"
      },
      "source": [
        "<a href=\"https://colab.research.google.com/github/kingkiboots/puzzle_algorithm/blob/main/1.brute_force/make_ten.ipynb\" target=\"_parent\"><img src=\"https://colab.research.google.com/assets/colab-badge.svg\" alt=\"Open In Colab\"/></a>"
      ]
    },
    {
      "cell_type": "code",
      "execution_count": null,
      "metadata": {
        "colab": {
          "base_uri": "https://localhost:8080/"
        },
        "id": "eP2tBlECFx7h",
        "outputId": "1b3f9697-b706-4402-d88e-c758c10f0da7"
      },
      "outputs": [
        {
          "output_type": "execute_result",
          "data": {
            "text/plain": [
              "Decimal('10.00')"
            ]
          },
          "metadata": {},
          "execution_count": 17
        }
      ],
      "source": [
        "# 역폴란드 표기법의 계산식을 계산한다.\n",
        "from decimal import Decimal\n",
        "\n",
        "def calc_poland(exp):\n",
        "  space = []\n",
        "  for c in exp:\n",
        "    if c >= '0' and c <= '9':\n",
        "      # c가 수를 표시하는 문자일 경우\n",
        "      # '7' 처럼 문자 정수는 7과 같은 수로 변환한다.\n",
        "      add = Decimal(c)\n",
        "\n",
        "      # 배열 말미에 삽입\n",
        "      space.append(add)\n",
        "    else:\n",
        "      # c가 연산자라면 배열 끝에서 2개의 수를 꺼낸다.\n",
        "      second = space.pop()\n",
        "      first = space.pop()\n",
        "      if c == '+':\n",
        "        space.append(first + second)\n",
        "      elif c == '-':\n",
        "        space.append(first - second)\n",
        "      elif c == '*':\n",
        "        space.append(first * second)\n",
        "      else:\n",
        "        space.append(first / second)\n",
        "\n",
        "  return space[-1]\n",
        "\n",
        "\n",
        "calc_poland(\"374/-8*\")"
      ]
    },
    {
      "cell_type": "code",
      "source": [
        "# 역폴란드 표기법은 일반 수식으로 표현한다.\n",
        "\n",
        "def decode_poland(exp):\n",
        "  space = []\n",
        "  for c in exp:\n",
        "    if c >= '0' and c <= '9':\n",
        "      space.append(str(c))\n",
        "    else:\n",
        "      # c가 연산자라면 배열 끝에서 2개의 수를 꺼낸다.\n",
        "      second = space.pop()\n",
        "      first = space.pop()\n",
        "      # 괄호를 언제 붙여야 할까?\n",
        "      # 곱셈, 나눗셈에서는 연산자의 우선순위가 높으므로\n",
        "      # 그 전후 계산식(단독 수 제외)에 괄호에 붙인다.\n",
        "      if c == '*' or c =='/':\n",
        "        if len(first) > 1:\n",
        "          first = \"({})\".format(first)\n",
        "        if len(second) > 1:\n",
        "          second = \"({})\".format(second)\n",
        "\n",
        "      space.append(first + c + second)\n",
        "\n",
        "  return space[-1]\n",
        "\n",
        "decode_poland(\"374/-8*\")\n",
        "# 6*(1+2)-8\n",
        "# +,- 연산자 다음에 곱하기나 나누기가 오면\n",
        "# 그러면 곱하기나 나누기가 오면 ans에 다가 괄호를 붙힐까?"
      ],
      "metadata": {
        "id": "a7vNB1qXKC_h",
        "colab": {
          "base_uri": "https://localhost:8080/",
          "height": 35
        },
        "outputId": "d6a88848-61fd-48cc-f605-4e1e50115f4d"
      },
      "execution_count": null,
      "outputs": [
        {
          "output_type": "execute_result",
          "data": {
            "text/plain": [
              "'(3-7/4)*8'"
            ],
            "application/vnd.google.colaboratory.intrinsic+json": {
              "type": "string"
            }
          },
          "metadata": {},
          "execution_count": 19
        }
      ]
    },
    {
      "cell_type": "code",
      "source": [],
      "metadata": {
        "id": "Xbg7BCayAXKd"
      },
      "execution_count": null,
      "outputs": []
    }
  ]
}